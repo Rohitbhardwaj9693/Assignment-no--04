{
 "cells": [
  {
   "cell_type": "code",
   "execution_count": 64,
   "id": "2d22a3c5-b88f-4caa-bbd3-0323c24d8128",
   "metadata": {},
   "outputs": [],
   "source": [
    "                                                                # Name :- Rohit Bhardwaj\n",
    "                                                               # Assignment :- 04\n",
    "                                                               # batch :- Data science\n",
    "\n",
    "\n",
    "\n",
    "#Question No :1\n",
    "\n",
    "\n",
    "l1=[('sachin tendulkar',34357),('ricky ponting',27483),('jack kallis',25534),('virat kohli',24936)]"
   ]
  },
  {
   "cell_type": "code",
   "execution_count": 65,
   "id": "c2485fb0-5e01-483f-b4c5-a79a56ac6e4f",
   "metadata": {},
   "outputs": [
    {
     "data": {
      "text/plain": [
       "[('sachin tendulkar', 34357),\n",
       " ('ricky ponting', 27483),\n",
       " ('jack kallis', 25534),\n",
       " ('virat kohli', 24936)]"
      ]
     },
     "execution_count": 65,
     "metadata": {},
     "output_type": "execute_result"
    }
   ],
   "source": [
    "l1"
   ]
  },
  {
   "cell_type": "code",
   "execution_count": 99,
   "id": "c59ba0bf-9659-45bb-baca-952fcb28ff10",
   "metadata": {},
   "outputs": [],
   "source": [
    "l1.sort(key=lambda i:i[1] )"
   ]
  },
  {
   "cell_type": "code",
   "execution_count": 100,
   "id": "efb87bbf-3130-4fbe-aa89-bd10e6352159",
   "metadata": {},
   "outputs": [
    {
     "data": {
      "text/plain": [
       "[('virat kohli', 24936),\n",
       " ('jack kallis', 25534),\n",
       " ('ricky ponting', 27483),\n",
       " ('sachin tendulkar', 34357)]"
      ]
     },
     "execution_count": 100,
     "metadata": {},
     "output_type": "execute_result"
    }
   ],
   "source": [
    "l1"
   ]
  },
  {
   "cell_type": "code",
   "execution_count": 66,
   "id": "d4751f9e-e2f3-4c38-af73-55a7685e2ddf",
   "metadata": {},
   "outputs": [],
   "source": [
    "# Question No :-2\n",
    "\n",
    "l2= [1,2,3,4,5,6,7,8,9,10]"
   ]
  },
  {
   "cell_type": "code",
   "execution_count": 67,
   "id": "a74bf4f5-30b1-475e-a0a9-e6b7cd5afa51",
   "metadata": {},
   "outputs": [
    {
     "data": {
      "text/plain": [
       "[1, 2, 3, 4, 5, 6, 7, 8, 9, 10]"
      ]
     },
     "execution_count": 67,
     "metadata": {},
     "output_type": "execute_result"
    }
   ],
   "source": [
    "l2"
   ]
  },
  {
   "cell_type": "code",
   "execution_count": 80,
   "id": "1f02d410-e183-4a09-a82e-763cd2d11236",
   "metadata": {},
   "outputs": [
    {
     "data": {
      "text/plain": [
       "('1', '2', '3', '4', '5', '6', '7', '8', '9', '10')"
      ]
     },
     "execution_count": 80,
     "metadata": {},
     "output_type": "execute_result"
    }
   ],
   "source": [
    "tuple(map(lambda i: str(i),l2))"
   ]
  },
  {
   "cell_type": "code",
   "execution_count": 68,
   "id": "c25c2a4e-8116-4610-bd28-494005a4701f",
   "metadata": {},
   "outputs": [],
   "source": [
    "# Question No :-3\n",
    "\n",
    "l3=[1,2,3,4,5,6,7,8,9,10]"
   ]
  },
  {
   "cell_type": "code",
   "execution_count": 70,
   "id": "c71e90c0-74d8-434a-b7af-4f19398d6a4e",
   "metadata": {},
   "outputs": [
    {
     "data": {
      "text/plain": [
       "[1, 2, 3, 4, 5, 6, 7, 8, 9, 10]"
      ]
     },
     "execution_count": 70,
     "metadata": {},
     "output_type": "execute_result"
    }
   ],
   "source": [
    "l3"
   ]
  },
  {
   "cell_type": "code",
   "execution_count": 71,
   "id": "a0c00270-543e-4128-b0d8-4fe997405a64",
   "metadata": {},
   "outputs": [
    {
     "data": {
      "text/plain": [
       "[1, 4, 9, 16, 25, 36, 49, 64, 81, 100]"
      ]
     },
     "execution_count": 71,
     "metadata": {},
     "output_type": "execute_result"
    }
   ],
   "source": [
    "list(map(lambda i: i**2,l3))"
   ]
  },
  {
   "cell_type": "code",
   "execution_count": 9,
   "id": "0d8c8442-a3ad-4170-9256-b8e5eea18c28",
   "metadata": {},
   "outputs": [],
   "source": [
    "from functools import reduce"
   ]
  },
  {
   "cell_type": "code",
   "execution_count": 72,
   "id": "e955c10c-938c-4003-966c-6f53b8de9b02",
   "metadata": {},
   "outputs": [],
   "source": [
    "# Question No :-4\n",
    "\n",
    "l4=[1,2,3,4,5,6,7,8,9,10,11,12,13,14,15,16,17,18,19,20,21,22,23,24,25]"
   ]
  },
  {
   "cell_type": "code",
   "execution_count": 73,
   "id": "846f9df4-4552-4435-8402-748d54862597",
   "metadata": {},
   "outputs": [
    {
     "data": {
      "text/plain": [
       "[1,\n",
       " 2,\n",
       " 3,\n",
       " 4,\n",
       " 5,\n",
       " 6,\n",
       " 7,\n",
       " 8,\n",
       " 9,\n",
       " 10,\n",
       " 11,\n",
       " 12,\n",
       " 13,\n",
       " 14,\n",
       " 15,\n",
       " 16,\n",
       " 17,\n",
       " 18,\n",
       " 19,\n",
       " 20,\n",
       " 21,\n",
       " 22,\n",
       " 23,\n",
       " 24,\n",
       " 25]"
      ]
     },
     "execution_count": 73,
     "metadata": {},
     "output_type": "execute_result"
    }
   ],
   "source": [
    "l4"
   ]
  },
  {
   "cell_type": "code",
   "execution_count": 20,
   "id": "68636f64-069f-4067-b430-47fda7e4f754",
   "metadata": {},
   "outputs": [
    {
     "data": {
      "text/plain": [
       "15511210043330985984000000"
      ]
     },
     "execution_count": 20,
     "metadata": {},
     "output_type": "execute_result"
    }
   ],
   "source": [
    "reduce(lambda i1,i2:i1*i2,l3)"
   ]
  },
  {
   "cell_type": "code",
   "execution_count": 74,
   "id": "2552629c-2f4c-4ba9-8ee5-c03e10404e99",
   "metadata": {},
   "outputs": [],
   "source": [
    "# Question No :-5\n",
    "\n",
    "l5=[2,3,6,9,27,60,90,120,55,46]"
   ]
  },
  {
   "cell_type": "code",
   "execution_count": 75,
   "id": "e02ae274-46ef-4a69-bdbe-5efc2379d8fd",
   "metadata": {},
   "outputs": [
    {
     "data": {
      "text/plain": [
       "[2, 3, 6, 9, 27, 60, 90, 120, 55, 46]"
      ]
     },
     "execution_count": 75,
     "metadata": {},
     "output_type": "execute_result"
    }
   ],
   "source": [
    "l5"
   ]
  },
  {
   "cell_type": "code",
   "execution_count": 76,
   "id": "8d8ff955-705e-4d46-8389-f49049195ad1",
   "metadata": {},
   "outputs": [
    {
     "data": {
      "text/plain": [
       "[6, 60, 90, 120]"
      ]
     },
     "execution_count": 76,
     "metadata": {},
     "output_type": "execute_result"
    }
   ],
   "source": [
    "list(filter(lambda i :  i%2==0 and i%3==0 ,l5))"
   ]
  },
  {
   "cell_type": "code",
   "execution_count": 77,
   "id": "b7604e32-f0b2-42e3-bbfb-3f5e5cd2a239",
   "metadata": {},
   "outputs": [],
   "source": [
    "# Question No :-6\n",
    "\n",
    "l6=['python','php','aba','radar','level']"
   ]
  },
  {
   "cell_type": "code",
   "execution_count": 78,
   "id": "1c7a9f6b-eabf-45b5-ab76-d8a1b54c70e2",
   "metadata": {},
   "outputs": [
    {
     "data": {
      "text/plain": [
       "['python', 'php', 'aba', 'radar', 'level']"
      ]
     },
     "execution_count": 78,
     "metadata": {},
     "output_type": "execute_result"
    }
   ],
   "source": [
    "l6"
   ]
  },
  {
   "cell_type": "code",
   "execution_count": 79,
   "id": "a4115ecd-b8e1-4640-800c-f484059da190",
   "metadata": {},
   "outputs": [
    {
     "data": {
      "text/plain": [
       "['php', 'aba', 'radar', 'level']"
      ]
     },
     "execution_count": 79,
     "metadata": {},
     "output_type": "execute_result"
    }
   ],
   "source": [
    "list(filter(lambda i: (i==\"\".join(reversed(i))),l6))"
   ]
  },
  {
   "cell_type": "markdown",
   "id": "96a32d33-b673-417e-97ac-f8458c240211",
   "metadata": {},
   "source": []
  },
  {
   "cell_type": "code",
   "execution_count": 54,
   "id": "38dd9c0d-83a8-468f-8537-41303ce8a408",
   "metadata": {},
   "outputs": [
    {
     "ename": "TypeError",
     "evalue": "str.join() takes exactly one argument (0 given)",
     "output_type": "error",
     "traceback": [
      "\u001b[0;31m---------------------------------------------------------------------------\u001b[0m",
      "\u001b[0;31mTypeError\u001b[0m                                 Traceback (most recent call last)",
      "Cell \u001b[0;32mIn[54], line 1\u001b[0m\n\u001b[0;32m----> 1\u001b[0m \u001b[43ms\u001b[49m\u001b[38;5;241;43m.\u001b[39;49m\u001b[43mjoin\u001b[49m\u001b[43m(\u001b[49m\u001b[43m)\u001b[49m\n",
      "\u001b[0;31mTypeError\u001b[0m: str.join() takes exactly one argument (0 given)"
     ]
    }
   ],
   "source": [
    "s.join()"
   ]
  },
  {
   "cell_type": "code",
   "execution_count": null,
   "id": "5b5e7f17-8132-4f2f-a1d2-af59f1b812ac",
   "metadata": {},
   "outputs": [],
   "source": []
  }
 ],
 "metadata": {
  "kernelspec": {
   "display_name": "Python 3 (ipykernel)",
   "language": "python",
   "name": "python3"
  },
  "language_info": {
   "codemirror_mode": {
    "name": "ipython",
    "version": 3
   },
   "file_extension": ".py",
   "mimetype": "text/x-python",
   "name": "python",
   "nbconvert_exporter": "python",
   "pygments_lexer": "ipython3",
   "version": "3.10.8"
  }
 },
 "nbformat": 4,
 "nbformat_minor": 5
}
